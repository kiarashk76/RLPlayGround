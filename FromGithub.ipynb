{
  "nbformat": 4,
  "nbformat_minor": 0,
  "metadata": {
    "colab": {
      "name": "FromGithub.ipynb",
      "provenance": [],
      "collapsed_sections": [],
      "authorship_tag": "ABX9TyNLrZKkaLlpnPyxUOLAj2kb",
      "include_colab_link": true
    },
    "kernelspec": {
      "name": "python3",
      "display_name": "Python 3"
    }
  },
  "cells": [
    {
      "cell_type": "markdown",
      "metadata": {
        "id": "view-in-github",
        "colab_type": "text"
      },
      "source": [
        "<a href=\"https://colab.research.google.com/github/kiarashk76/RLPlayGround/blob/master/FromGithub.ipynb\" target=\"_parent\"><img src=\"https://colab.research.google.com/assets/colab-badge.svg\" alt=\"Open In Colab\"/></a>"
      ]
    },
    {
      "cell_type": "code",
      "metadata": {
        "id": "MQafVk3TbWB8",
        "colab_type": "code",
        "colab": {
          "base_uri": "https://localhost:8080/",
          "height": 138
        },
        "outputId": "27184392-b4e4-41ec-ec58-027a0fcedc49"
      },
      "source": [
        "!git clone https://github.com/kiarashk76/RLPlayGround"
      ],
      "execution_count": 1,
      "outputs": [
        {
          "output_type": "stream",
          "text": [
            "Cloning into 'RLPlayGround'...\n",
            "remote: Enumerating objects: 432, done.\u001b[K\n",
            "remote: Counting objects: 100% (432/432), done.\u001b[K\n",
            "remote: Compressing objects: 100% (233/233), done.\u001b[K\n",
            "remote: Total 432 (delta 260), reused 346 (delta 175), pack-reused 0\u001b[K\n",
            "Receiving objects: 100% (432/432), 96.54 KiB | 8.78 MiB/s, done.\n",
            "Resolving deltas: 100% (260/260), done.\n"
          ],
          "name": "stdout"
        }
      ]
    },
    {
      "cell_type": "code",
      "metadata": {
        "id": "icWEylqvbnoQ",
        "colab_type": "code",
        "colab": {
          "base_uri": "https://localhost:8080/",
          "height": 35
        },
        "outputId": "07178a55-bb29-4a92-a47a-e263958996af"
      },
      "source": [
        "%cd RLPlayGround\n",
        "!rm -r Test\n"
      ],
      "execution_count": 2,
      "outputs": [
        {
          "output_type": "stream",
          "text": [
            "/content/RLPlayGround\n"
          ],
          "name": "stdout"
        }
      ]
    },
    {
      "cell_type": "code",
      "metadata": {
        "id": "NBBxngcLcfWS",
        "colab_type": "code",
        "colab": {
          "base_uri": "https://localhost:8080/",
          "height": 124
        },
        "outputId": "9bd05f79-6f7e-43fc-a73e-5192d0c361cf"
      },
      "source": [
        "!pip install pygame"
      ],
      "execution_count": 3,
      "outputs": [
        {
          "output_type": "stream",
          "text": [
            "Collecting pygame\n",
            "\u001b[?25l  Downloading https://files.pythonhosted.org/packages/8e/24/ede6428359f913ed9cd1643dd5533aefeb5a2699cc95bea089de50ead586/pygame-1.9.6-cp36-cp36m-manylinux1_x86_64.whl (11.4MB)\n",
            "\u001b[K     |████████████████████████████████| 11.4MB 2.6MB/s \n",
            "\u001b[?25hInstalling collected packages: pygame\n",
            "Successfully installed pygame-1.9.6\n"
          ],
          "name": "stdout"
        }
      ]
    },
    {
      "cell_type": "code",
      "metadata": {
        "id": "wvMsNHosb30K",
        "colab_type": "code",
        "colab": {
          "base_uri": "https://localhost:8080/",
          "height": 1000
        },
        "outputId": "51f118ad-3dc0-4aee-bee1-a168e7663406"
      },
      "source": [
        "!python main.py"
      ],
      "execution_count": 4,
      "outputs": [
        {
          "output_type": "stream",
          "text": [
            "pygame 1.9.6\n",
            "Hello from the pygame community. https://www.pygame.org/contribute.html\n",
            "cpu\n",
            "starting episode  1\n",
            "/content/RLPlayGround/Colab/Agents/BaseDynaAgent.py:229: UserWarning: To copy construct from a tensor, it is recommended to use sourceTensor.clone().detach() or sourceTensor.clone().detach().requires_grad_(True), rather than torch.tensor(sourceTensor).\n",
            "  target = torch.tensor(reward).unsqueeze(0)\n",
            "num steps:  16\n",
            "model error:  tensor(0.0194, dtype=torch.float64)\n",
            "starting episode  2\n",
            "num steps:  40\n",
            "model error:  tensor(0.0189, dtype=torch.float64)\n",
            "starting episode  3\n",
            "num steps:  40\n",
            "model error:  tensor(0.0186, dtype=torch.float64)\n",
            "starting episode  4\n",
            "num steps:  18\n",
            "model error:  tensor(0.0184, dtype=torch.float64)\n",
            "starting episode  5\n",
            "num steps:  16\n",
            "model error:  tensor(0.0183, dtype=torch.float64)\n",
            "starting episode  6\n",
            "num steps:  6\n",
            "model error:  tensor(0.0183, dtype=torch.float64)\n",
            "starting episode  7\n",
            "num steps:  1\n",
            "model error:  tensor(0.0183, dtype=torch.float64)\n",
            "starting episode  8\n",
            "num steps:  6\n",
            "model error:  tensor(0.0182, dtype=torch.float64)\n",
            "starting episode  9\n",
            "num steps:  40\n",
            "model error:  tensor(0.0179, dtype=torch.float64)\n",
            "starting episode  10\n",
            "num steps:  40\n",
            "model error:  tensor(0.0178, dtype=torch.float64)\n",
            "starting episode  11\n",
            "num steps:  40\n",
            "model error:  tensor(0.0177, dtype=torch.float64)\n",
            "starting episode  12\n",
            "num steps:  40\n",
            "model error:  tensor(0.0177, dtype=torch.float64)\n",
            "starting episode  13\n",
            "num steps:  38\n",
            "model error:  tensor(0.0177, dtype=torch.float64)\n",
            "starting episode  14\n",
            "num steps:  40\n",
            "model error:  tensor(0.0177, dtype=torch.float64)\n",
            "starting episode  15\n",
            "num steps:  40\n",
            "model error:  tensor(0.0177, dtype=torch.float64)\n",
            "starting episode  16\n",
            "num steps:  40\n",
            "model error:  tensor(0.0177, dtype=torch.float64)\n",
            "starting episode  17\n",
            "num steps:  40\n",
            "model error:  tensor(0.0177, dtype=torch.float64)\n",
            "starting episode  18\n",
            "num steps:  40\n",
            "model error:  tensor(0.0177, dtype=torch.float64)\n",
            "starting episode  19\n",
            "num steps:  40\n",
            "model error:  tensor(0.0177, dtype=torch.float64)\n",
            "starting episode  20\n",
            "num steps:  40\n",
            "model error:  tensor(0.0177, dtype=torch.float64)\n",
            "starting episode  21\n",
            "num steps:  40\n",
            "model error:  tensor(0.0177, dtype=torch.float64)\n",
            "starting episode  22\n",
            "num steps:  40\n",
            "model error:  tensor(0.0177, dtype=torch.float64)\n",
            "starting episode  23\n",
            "num steps:  40\n",
            "model error:  tensor(0.0177, dtype=torch.float64)\n",
            "starting episode  24\n",
            "num steps:  40\n",
            "model error:  tensor(0.0177, dtype=torch.float64)\n",
            "starting episode  25\n",
            "num steps:  40\n",
            "model error:  tensor(0.0177, dtype=torch.float64)\n",
            "starting episode  26\n",
            "num steps:  40\n",
            "model error:  tensor(0.0177, dtype=torch.float64)\n",
            "starting episode  27\n",
            "num steps:  40\n",
            "model error:  tensor(0.0177, dtype=torch.float64)\n",
            "starting episode  28\n",
            "num steps:  40\n",
            "model error:  tensor(0.0177, dtype=torch.float64)\n",
            "starting episode  29\n",
            "num steps:  40\n",
            "model error:  tensor(0.0177, dtype=torch.float64)\n",
            "starting episode  30\n",
            "num steps:  40\n",
            "model error:  tensor(0.0177, dtype=torch.float64)\n",
            "starting episode  31\n",
            "num steps:  36\n",
            "model error:  tensor(0.0177, dtype=torch.float64)\n",
            "starting episode  32\n",
            "num steps:  40\n",
            "model error:  tensor(0.0177, dtype=torch.float64)\n",
            "starting episode  33\n",
            "num steps:  36\n",
            "model error:  tensor(0.0177, dtype=torch.float64)\n",
            "starting episode  34\n",
            "Traceback (most recent call last):\n",
            "  File \"main.py\", line 4, in <module>\n",
            "  File \"/content/RLPlayGround/Colab/Experiments/GridWorldExperiment.py\", line 360, in run_experiment\n",
            "    experiment.runEpisode(max_step_each_episode)\n",
            "  File \"/content/RLPlayGround/Colab/Experiments/GridWorldExperiment.py\", line 69, in runEpisode\n",
            "    rl_step_result = self.step()\n",
            "  File \"/content/RLPlayGround/Colab/Experiments/GridWorldExperiment.py\", line 58, in step\n",
            "    self.last_action = self.agent.step(reward, obs)\n",
            "  File \"/content/RLPlayGround/Colab/Agents/BaseDynaAgent.py\", line 74, in step\n",
            "    self.plan()\n",
            "  File \"/content/RLPlayGround/Colab/Agents/BackwardDynaAgent.py\", line 68, in plan\n",
            "    self.updateValueFunction(reward, x_old, x_new, prev_action=prev_action, action=action)\n",
            "  File \"/content/RLPlayGround/Colab/Agents/BaseDynaAgent.py\", line 194, in updateValueFunction\n",
            "    input = self.vf['s']['network'][prev_action_index](x_old)\n",
            "  File \"/usr/local/lib/python3.6/dist-packages/torch/nn/modules/module.py\", line 550, in __call__\n",
            "    result = self.forward(*input, **kwargs)\n",
            "  File \"/content/RLPlayGround/Colab/Networks/ValueFunctionNN/StateValueFunction.py\", line 47, in forward\n",
            "    return self.head(x.float())\n",
            "  File \"/usr/local/lib/python3.6/dist-packages/torch/nn/modules/module.py\", line 550, in __call__\n",
            "    result = self.forward(*input, **kwargs)\n",
            "  File \"/usr/local/lib/python3.6/dist-packages/torch/nn/modules/linear.py\", line 87, in forward\n",
            "    return F.linear(input, self.weight, self.bias)\n",
            "  File \"/usr/local/lib/python3.6/dist-packages/torch/nn/functional.py\", line 1610, in linear\n",
            "    ret = torch.addmm(bias, input, weight.t())\n",
            "KeyboardInterrupt\n"
          ],
          "name": "stdout"
        }
      ]
    }
  ]
}